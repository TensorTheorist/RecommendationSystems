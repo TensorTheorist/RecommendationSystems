{
 "cells": [
  {
   "cell_type": "markdown",
   "id": "f9cd8842-23fa-4806-a862-e66de75be5f1",
   "metadata": {},
   "source": [
    "![](images/dataset-cover.jpeg)"
   ]
  },
  {
   "cell_type": "markdown",
   "id": "ce2d3d10-5919-4683-a1d3-9b3a12399b6c",
   "metadata": {},
   "source": [
    "# MovieLens20M dataset"
   ]
  },
  {
   "cell_type": "code",
   "execution_count": 1,
   "id": "4ca07c65-cfe5-4999-80b5-44f4b3251991",
   "metadata": {},
   "outputs": [],
   "source": [
    "import pandas as pd\n",
    "import numpy as np\n",
    "import pickle\n",
    "\n",
    "from collections import Counter"
   ]
  },
  {
   "cell_type": "markdown",
   "id": "e935ffbd-be61-4ad6-bb8b-a491ec69fbe0",
   "metadata": {},
   "source": [
    "## 1.1 Read relevant files from the data folder"
   ]
  },
  {
   "cell_type": "code",
   "execution_count": 2,
   "id": "b2556ef6-271c-440f-9c40-135512e05675",
   "metadata": {},
   "outputs": [],
   "source": [
    "df_genome_scores = pd.read_csv('data/genome_scores.csv', index_col=False)\n",
    "df_genome_tags = pd.read_csv('data/genome_tags.csv', index_col=False)\n",
    "df_link = pd.read_csv('data/link.csv', index_col=False)\n",
    "df_movie = pd.read_csv('data/movie.csv', index_col=False)\n",
    "df_rating = pd.read_csv('data/rating.csv', index_col=False).drop(columns=['timestamp'])\n",
    "df_tags = pd.read_csv('data/tag.csv', index_col=False)"
   ]
  },
  {
   "cell_type": "markdown",
   "id": "c44b0fba-fcdb-466b-a0d0-35cd11c8e268",
   "metadata": {},
   "source": [
    "## 1.2 Preprocessing ratings.csv dataset\n",
    "\n",
    "The following have been implemented as part of preliminary pre-processing:\n",
    "* User-Ids go from 1 to 138492, without any gaps. The ids have been shifted to start from 0.\n",
    "* There are fewer unique movieIds than max ID value, so they have been re-indexed.\n",
    "\n",
    "The new re-indexed movieIDs are used to make up a new column. The final DataFrame is saved."
   ]
  },
  {
   "cell_type": "code",
   "execution_count": 3,
   "id": "639cb795-aebe-44b7-a9d4-bf6729bad4ab",
   "metadata": {},
   "outputs": [],
   "source": [
    "df_rating['userId'] -= 1\n",
    "\n",
    "unique_movie_ids = set(df_rating.movieId.values)\n",
    "\n",
    "movieIdToIndex = {}\n",
    "count = 0\n",
    "\n",
    "for movie_id in unique_movie_ids:\n",
    "    movieIdToIndex[movie_id] = count\n",
    "    count += 1\n",
    "    \n",
    "df_rating['movieIndex'] = df_rating.apply(lambda x: movieIdToIndex[x.movieId], axis=1)\n",
    "\n",
    "df_rating.to_csv(\"data/edited_rating.csv\")"
   ]
  },
  {
   "cell_type": "code",
   "execution_count": 4,
   "id": "bc2f6390-df1b-47ed-86b7-d591421896eb",
   "metadata": {},
   "outputs": [
    {
     "data": {
      "text/html": [
       "<div>\n",
       "<style scoped>\n",
       "    .dataframe tbody tr th:only-of-type {\n",
       "        vertical-align: middle;\n",
       "    }\n",
       "\n",
       "    .dataframe tbody tr th {\n",
       "        vertical-align: top;\n",
       "    }\n",
       "\n",
       "    .dataframe thead th {\n",
       "        text-align: right;\n",
       "    }\n",
       "</style>\n",
       "<table border=\"1\" class=\"dataframe\">\n",
       "  <thead>\n",
       "    <tr style=\"text-align: right;\">\n",
       "      <th></th>\n",
       "      <th>userId</th>\n",
       "      <th>movieId</th>\n",
       "      <th>rating</th>\n",
       "      <th>movieIndex</th>\n",
       "    </tr>\n",
       "  </thead>\n",
       "  <tbody>\n",
       "    <tr>\n",
       "      <th>0</th>\n",
       "      <td>0</td>\n",
       "      <td>2</td>\n",
       "      <td>3.5</td>\n",
       "      <td>2</td>\n",
       "    </tr>\n",
       "    <tr>\n",
       "      <th>1</th>\n",
       "      <td>0</td>\n",
       "      <td>29</td>\n",
       "      <td>3.5</td>\n",
       "      <td>29</td>\n",
       "    </tr>\n",
       "    <tr>\n",
       "      <th>2</th>\n",
       "      <td>0</td>\n",
       "      <td>32</td>\n",
       "      <td>3.5</td>\n",
       "      <td>32</td>\n",
       "    </tr>\n",
       "    <tr>\n",
       "      <th>3</th>\n",
       "      <td>0</td>\n",
       "      <td>47</td>\n",
       "      <td>3.5</td>\n",
       "      <td>47</td>\n",
       "    </tr>\n",
       "    <tr>\n",
       "      <th>4</th>\n",
       "      <td>0</td>\n",
       "      <td>50</td>\n",
       "      <td>3.5</td>\n",
       "      <td>50</td>\n",
       "    </tr>\n",
       "    <tr>\n",
       "      <th>...</th>\n",
       "      <td>...</td>\n",
       "      <td>...</td>\n",
       "      <td>...</td>\n",
       "      <td>...</td>\n",
       "    </tr>\n",
       "    <tr>\n",
       "      <th>20000258</th>\n",
       "      <td>138492</td>\n",
       "      <td>68954</td>\n",
       "      <td>4.5</td>\n",
       "      <td>13821</td>\n",
       "    </tr>\n",
       "    <tr>\n",
       "      <th>20000259</th>\n",
       "      <td>138492</td>\n",
       "      <td>69526</td>\n",
       "      <td>4.5</td>\n",
       "      <td>13929</td>\n",
       "    </tr>\n",
       "    <tr>\n",
       "      <th>20000260</th>\n",
       "      <td>138492</td>\n",
       "      <td>69644</td>\n",
       "      <td>3.0</td>\n",
       "      <td>13942</td>\n",
       "    </tr>\n",
       "    <tr>\n",
       "      <th>20000261</th>\n",
       "      <td>138492</td>\n",
       "      <td>70286</td>\n",
       "      <td>5.0</td>\n",
       "      <td>14060</td>\n",
       "    </tr>\n",
       "    <tr>\n",
       "      <th>20000262</th>\n",
       "      <td>138492</td>\n",
       "      <td>71619</td>\n",
       "      <td>2.5</td>\n",
       "      <td>14344</td>\n",
       "    </tr>\n",
       "  </tbody>\n",
       "</table>\n",
       "<p>20000263 rows × 4 columns</p>\n",
       "</div>"
      ],
      "text/plain": [
       "          userId  movieId  rating  movieIndex\n",
       "0              0        2     3.5           2\n",
       "1              0       29     3.5          29\n",
       "2              0       32     3.5          32\n",
       "3              0       47     3.5          47\n",
       "4              0       50     3.5          50\n",
       "...          ...      ...     ...         ...\n",
       "20000258  138492    68954     4.5       13821\n",
       "20000259  138492    69526     4.5       13929\n",
       "20000260  138492    69644     3.0       13942\n",
       "20000261  138492    70286     5.0       14060\n",
       "20000262  138492    71619     2.5       14344\n",
       "\n",
       "[20000263 rows x 4 columns]"
      ]
     },
     "execution_count": 4,
     "metadata": {},
     "output_type": "execute_result"
    }
   ],
   "source": [
    "df_rating"
   ]
  },
  {
   "cell_type": "markdown",
   "id": "8feb306e-0a59-4539-bcdc-6848574a305e",
   "metadata": {},
   "source": [
    "## 1.3 A shrinked pre-processed dataset"
   ]
  },
  {
   "cell_type": "code",
   "execution_count": 5,
   "id": "6a4b5a6b-4980-438c-a0f2-f2fde37d546e",
   "metadata": {},
   "outputs": [],
   "source": [
    "df = pd.read_csv(\"data/edited_rating.csv\", index_col=0)"
   ]
  },
  {
   "cell_type": "code",
   "execution_count": 6,
   "id": "47bae191-5abf-4e93-83d8-df4cd2ed6dce",
   "metadata": {},
   "outputs": [
    {
     "data": {
      "text/html": [
       "<div>\n",
       "<style scoped>\n",
       "    .dataframe tbody tr th:only-of-type {\n",
       "        vertical-align: middle;\n",
       "    }\n",
       "\n",
       "    .dataframe tbody tr th {\n",
       "        vertical-align: top;\n",
       "    }\n",
       "\n",
       "    .dataframe thead th {\n",
       "        text-align: right;\n",
       "    }\n",
       "</style>\n",
       "<table border=\"1\" class=\"dataframe\">\n",
       "  <thead>\n",
       "    <tr style=\"text-align: right;\">\n",
       "      <th></th>\n",
       "      <th>userId</th>\n",
       "      <th>movieId</th>\n",
       "      <th>rating</th>\n",
       "      <th>movieIndex</th>\n",
       "    </tr>\n",
       "  </thead>\n",
       "  <tbody>\n",
       "    <tr>\n",
       "      <th>0</th>\n",
       "      <td>0</td>\n",
       "      <td>2</td>\n",
       "      <td>3.5</td>\n",
       "      <td>2</td>\n",
       "    </tr>\n",
       "    <tr>\n",
       "      <th>1</th>\n",
       "      <td>0</td>\n",
       "      <td>29</td>\n",
       "      <td>3.5</td>\n",
       "      <td>29</td>\n",
       "    </tr>\n",
       "    <tr>\n",
       "      <th>2</th>\n",
       "      <td>0</td>\n",
       "      <td>32</td>\n",
       "      <td>3.5</td>\n",
       "      <td>32</td>\n",
       "    </tr>\n",
       "    <tr>\n",
       "      <th>3</th>\n",
       "      <td>0</td>\n",
       "      <td>47</td>\n",
       "      <td>3.5</td>\n",
       "      <td>47</td>\n",
       "    </tr>\n",
       "    <tr>\n",
       "      <th>4</th>\n",
       "      <td>0</td>\n",
       "      <td>50</td>\n",
       "      <td>3.5</td>\n",
       "      <td>50</td>\n",
       "    </tr>\n",
       "    <tr>\n",
       "      <th>...</th>\n",
       "      <td>...</td>\n",
       "      <td>...</td>\n",
       "      <td>...</td>\n",
       "      <td>...</td>\n",
       "    </tr>\n",
       "    <tr>\n",
       "      <th>20000258</th>\n",
       "      <td>138492</td>\n",
       "      <td>68954</td>\n",
       "      <td>4.5</td>\n",
       "      <td>13821</td>\n",
       "    </tr>\n",
       "    <tr>\n",
       "      <th>20000259</th>\n",
       "      <td>138492</td>\n",
       "      <td>69526</td>\n",
       "      <td>4.5</td>\n",
       "      <td>13929</td>\n",
       "    </tr>\n",
       "    <tr>\n",
       "      <th>20000260</th>\n",
       "      <td>138492</td>\n",
       "      <td>69644</td>\n",
       "      <td>3.0</td>\n",
       "      <td>13942</td>\n",
       "    </tr>\n",
       "    <tr>\n",
       "      <th>20000261</th>\n",
       "      <td>138492</td>\n",
       "      <td>70286</td>\n",
       "      <td>5.0</td>\n",
       "      <td>14060</td>\n",
       "    </tr>\n",
       "    <tr>\n",
       "      <th>20000262</th>\n",
       "      <td>138492</td>\n",
       "      <td>71619</td>\n",
       "      <td>2.5</td>\n",
       "      <td>14344</td>\n",
       "    </tr>\n",
       "  </tbody>\n",
       "</table>\n",
       "<p>20000263 rows × 4 columns</p>\n",
       "</div>"
      ],
      "text/plain": [
       "          userId  movieId  rating  movieIndex\n",
       "0              0        2     3.5           2\n",
       "1              0       29     3.5          29\n",
       "2              0       32     3.5          32\n",
       "3              0       47     3.5          47\n",
       "4              0       50     3.5          50\n",
       "...          ...      ...     ...         ...\n",
       "20000258  138492    68954     4.5       13821\n",
       "20000259  138492    69526     4.5       13929\n",
       "20000260  138492    69644     3.0       13942\n",
       "20000261  138492    70286     5.0       14060\n",
       "20000262  138492    71619     2.5       14344\n",
       "\n",
       "[20000263 rows x 4 columns]"
      ]
     },
     "execution_count": 6,
     "metadata": {},
     "output_type": "execute_result"
    }
   ],
   "source": [
    "df"
   ]
  },
  {
   "cell_type": "code",
   "execution_count": 24,
   "id": "e3f6399b-4a67-453e-bbbf-74872b67b2c6",
   "metadata": {},
   "outputs": [],
   "source": [
    "M = df.movieIndex.max()\n",
    "N = df.userId.max()\n",
    "\n",
    "user_ids_count = Counter(df.userId)\n",
    "movie_ids_count = Counter(df.movieId)\n",
    "\n",
    "m = 2000\n",
    "n = 10000"
   ]
  },
  {
   "cell_type": "code",
   "execution_count": 25,
   "id": "c7966258-0f35-4e4b-9e5b-66ba58a25d45",
   "metadata": {},
   "outputs": [],
   "source": [
    "top_user_ids = [u for u, c in user_ids_count.most_common(n)]\n",
    "top_movie_ids = [m for m, c in movie_ids_count.most_common(m)]\n",
    "\n",
    "df_shrinked = df[df.userId.isin(top_user_ids) & df.movieId.isin(top_movie_ids)].copy()\n"
   ]
  },
  {
   "cell_type": "markdown",
   "id": "1f288e1d-881b-4d7d-8b42-c3b9d7134b34",
   "metadata": {},
   "source": [
    "The userIDs and movieIDs need to be re-indexed since many users and movies have been removed"
   ]
  },
  {
   "cell_type": "code",
   "execution_count": 26,
   "id": "333322ea-19c9-48b7-8710-8de557e70c7a",
   "metadata": {},
   "outputs": [
    {
     "name": "stdout",
     "output_type": "stream",
     "text": [
      "i: 10000\n",
      "j: 2000\n"
     ]
    }
   ],
   "source": [
    "new_user_id_map = {}\n",
    "i = 0\n",
    "for old in top_user_ids:\n",
    "    new_user_id_map[old] = i\n",
    "    i += 1\n",
    "print(\"i:\", i)\n",
    "\n",
    "new_movie_id_map = {}\n",
    "j = 0\n",
    "for old in top_movie_ids:\n",
    "    new_movie_id_map[old] = j\n",
    "    j += 1\n",
    "print(\"j:\", j)"
   ]
  },
  {
   "cell_type": "code",
   "execution_count": 27,
   "id": "352eaefe-cc7e-474b-be83-953b7e9f05b0",
   "metadata": {},
   "outputs": [],
   "source": [
    "df_shrinked.loc[:, 'userId'] = df_shrinked.apply(lambda x: new_user_id_map[x.userId], axis=1)\n",
    "df_shrinked.loc[:, 'movieId'] = df_shrinked.apply(lambda x: new_movie_id_map[x.movieId], axis=1)"
   ]
  },
  {
   "cell_type": "code",
   "execution_count": 28,
   "id": "2bdb3c2f-9c08-4dd3-b5a1-d649f7ceb77b",
   "metadata": {},
   "outputs": [
    {
     "data": {
      "text/plain": [
       "(9999, 1999)"
      ]
     },
     "execution_count": 28,
     "metadata": {},
     "output_type": "execute_result"
    }
   ],
   "source": [
    "df_shrinked.userId.max(), df_shrinked.movieId.max()"
   ]
  },
  {
   "cell_type": "code",
   "execution_count": 29,
   "id": "f842580f-2632-4b3c-b69f-f1a68e85fd49",
   "metadata": {},
   "outputs": [],
   "source": [
    "df_shrinked.to_csv(\"data/shrinked_rating.csv\")"
   ]
  },
  {
   "cell_type": "code",
   "execution_count": null,
   "id": "43c67e71-83c3-4add-b580-17d9d01cd73c",
   "metadata": {},
   "outputs": [],
   "source": []
  }
 ],
 "metadata": {
  "kernelspec": {
   "display_name": "Python 3.9 (tensorflow)",
   "language": "python",
   "name": "tensorflow"
  },
  "language_info": {
   "codemirror_mode": {
    "name": "ipython",
    "version": 3
   },
   "file_extension": ".py",
   "mimetype": "text/x-python",
   "name": "python",
   "nbconvert_exporter": "python",
   "pygments_lexer": "ipython3",
   "version": "3.9.9"
  },
  "toc-showmarkdowntxt": false
 },
 "nbformat": 4,
 "nbformat_minor": 5
}
